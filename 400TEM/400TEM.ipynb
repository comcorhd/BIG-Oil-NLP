{
 "cells": [
  {
   "cell_type": "code",
   "execution_count": 1,
   "metadata": {},
   "outputs": [
    {
     "name": "stdout",
     "output_type": "stream",
     "text": [
      "fatal: destination path 'ACDC-UD' already exists and is not an empty directory.\r\n"
     ]
    }
   ],
   "source": [
    "! cd ../../; git clone https://github.com/alvelvis/ACDC-UD"
   ]
  },
  {
   "cell_type": "code",
   "execution_count": 4,
   "metadata": {},
   "outputs": [],
   "source": [
    "import sys\n",
    "sys.path.append('../../ACDC-UD')\n",
    "import estrutura_ud\n",
    "import os\n",
    "import re"
   ]
  },
  {
   "cell_type": "markdown",
   "metadata": {},
   "source": [
    "# Converter 400 TEM para utf-8\n",
    "Necessário ter a pasta do Petrolês em utf-16 (no repositório, a conversão para utf-8 já foi realizada, portanto é necessário pular esta etapa)\n",
    "\n",
    "Etapa necessária, caso contrário o UDPipe terá problemas"
   ]
  },
  {
   "cell_type": "code",
   "execution_count": null,
   "metadata": {},
   "outputs": [],
   "source": [
    "! mkdir processado-utf8\n",
    "! mkdir gambiarra-utf8\n",
    "for file in os.listdir(\"TXT_Teses e Monografias\"):\n",
    "    if file.endswith(\".txt\"):\n",
    "        with open(f\"TXT_Teses e Monografias/{file}\", encoding=\"utf-16\") as f:\n",
    "            with open(f\"processado-utf8/{file}\", 'w', encoding=\"utf-8\") as r:\n",
    "                r.write(f.read())\n",
    "                \n",
    "for file in os.listdir(\"Corpus Gambiarra\"):\n",
    "    if file.endswith(\".txt\"):\n",
    "        with open(f\"Corpus Gambiarra/{file}\", encoding=\"utf-16\") as f:\n",
    "            with open(f\"gambiarra-utf8/{file}\", 'w', encoding=\"utf-8\") as r:\n",
    "                r.write(f.read())             "
   ]
  },
  {
   "cell_type": "markdown",
   "metadata": {},
   "source": [
    "# Anotar 400TEM\n",
    "--> DEMORADO"
   ]
  },
  {
   "cell_type": "code",
   "execution_count": 3,
   "metadata": {},
   "outputs": [
    {
     "name": "stdout",
     "output_type": "stream",
     "text": [
      "Loading UDPipe model: done.\n",
      "^C\n"
     ]
    }
   ],
   "source": [
    "! ../udpipe/udpipe-1.2.0 --tokenize --tag --parse ../udpipe/bosqueud_2.5_workbench.udpipe processado-utf8/raw/*.txt > processado-utf8/udpipe/bem_processado.conllu"
   ]
  },
  {
   "cell_type": "code",
   "execution_count": 5,
   "metadata": {},
   "outputs": [
    {
     "name": "stdout",
     "output_type": "stream",
     "text": [
      "Loading UDPipe model: done.\n",
      "^C\n"
     ]
    }
   ],
   "source": [
    "! ../udpipe/udpipe-1.2.0 --tokenize --tag --parse ../udpipe/bosqueud_2.5_workbench.udpipe gambiarra-utf8/raw/*.txt > gambiarra-utf8/udpipe/gambiarra.conllu"
   ]
  },
  {
   "cell_type": "markdown",
   "metadata": {},
   "source": [
    "# Adicionar sent_id às frases das 400TEM"
   ]
  },
  {
   "cell_type": "code",
   "execution_count": 6,
   "metadata": {},
   "outputs": [],
   "source": [
    "! python3 ../scripts/fix_sent_id.py processado-utf8/udpipe/bem_processado.conllu > processado-utf8/udpipe/bem_processado_sentid.conllu"
   ]
  },
  {
   "cell_type": "code",
   "execution_count": 7,
   "metadata": {},
   "outputs": [],
   "source": [
    "! python3 ../scripts/fix_sent_id.py gambiarra-utf8/udpipe/gambiarra.conllu > gambiarra-utf8/udpipe/gambiarra_sentid.conllu"
   ]
  },
  {
   "cell_type": "markdown",
   "metadata": {},
   "source": [
    "# Corrigir fórmulas nas 400TEM\n",
    "(ou só gambiarra)"
   ]
  },
  {
   "cell_type": "code",
   "execution_count": 8,
   "metadata": {},
   "outputs": [
    {
     "name": "stdout",
     "output_type": "stream",
     "text": [
      "1019922\n",
      "1019916\n"
     ]
    }
   ],
   "source": [
    "with open(\"gambiarra-utf8/udpipe/gambiarra_sentid.conllu\") as f:\n",
    "    gambiarra = f.read()\n",
    "\n",
    "gambiarra_split = gambiarra.split(\"\\n\\n\")\n",
    "print(len(gambiarra_split))\n",
    "gambiarra = [x for x in gambiarra_split if not \"\\t\\n\" in x and not re.search(r'\\n[^\\d#]', x)]\n",
    "print(len(gambiarra))\n",
    "\n",
    "with open(\"gambiarra-utf8/udpipe/gambiarra_sentid_formula.conllu\", 'w') as f:\n",
    "    f.write(\"\\n\\n\".join(gambiarra))"
   ]
  },
  {
   "cell_type": "markdown",
   "metadata": {},
   "source": [
    "# Abrir 400TEM UDPIPE\n",
    "--> DEMORADO"
   ]
  },
  {
   "cell_type": "code",
   "execution_count": 9,
   "metadata": {},
   "outputs": [],
   "source": [
    "gambiarra = estrutura_ud.Corpus()\n",
    "gambiarra.load(\"gambiarra-utf8/udpipe/gambiarra_sentid_formula.conllu\")"
   ]
  },
  {
   "cell_type": "code",
   "execution_count": 10,
   "metadata": {},
   "outputs": [],
   "source": [
    "bemprocessado = estrutura_ud.Corpus()\n",
    "bemprocessado.load(\"processado-utf8/udpipe/bem_processado_sentid.conllu\")"
   ]
  },
  {
   "cell_type": "markdown",
   "metadata": {},
   "source": [
    "# Teste de documentos em bemprocessado e gambiarra \n",
    "(estranho -- número diferente. Anotar novamente.)"
   ]
  },
  {
   "cell_type": "code",
   "execution_count": 7,
   "metadata": {},
   "outputs": [
    {
     "name": "stdout",
     "output_type": "stream",
     "text": [
      "Documentos em bemprocessado (402) que faltam em gambiarra (402):\n",
      "[]\n",
      "\n",
      "Documentos em gambiarra que faltam em bemprocessado:\n",
      "[]\n"
     ]
    }
   ],
   "source": [
    "lista_documentos_bemprocessado = []\n",
    "[lista_documentos_bemprocessado.append(x.rsplit(\"-\", 1)[0]) for x in bemprocessado.sentences if x.rsplit(\"-\", 1)[0] not in lista_documentos_bemprocessado]\n",
    "lista_documentos_gambiarra = []\n",
    "[lista_documentos_gambiarra.append(x.rsplit(\"-\", 1)[0]) for x in gambiarra.sentences if x.rsplit(\"-\", 1)[0] not in lista_documentos_gambiarra]\n",
    "\n",
    "fora_de_gambiarra = [x for x in lista_documentos_bemprocessado if x not in lista_documentos_gambiarra]\n",
    "fora_de_bemprocessado = [x for x in lista_documentos_gambiarra if x not in lista_documentos_bemprocessado]\n",
    "print(f\"Documentos em bemprocessado ({len(lista_documentos_bemprocessado)}) que faltam em gambiarra ({len(lista_documentos_gambiarra)}):\")\n",
    "print(fora_de_gambiarra)\n",
    "print(\"\\nDocumentos em gambiarra que faltam em bemprocessado:\")\n",
    "print(fora_de_bemprocessado)\n",
    "lista_documentos_proibidos = fora_de_gambiarra + fora_de_bemprocessado"
   ]
  },
  {
   "cell_type": "markdown",
   "metadata": {},
   "source": [
    "## Normalização dos documentos em ambos os arquivos"
   ]
  },
  {
   "cell_type": "code",
   "execution_count": 8,
   "metadata": {},
   "outputs": [
    {
     "name": "stdout",
     "output_type": "stream",
     "text": [
      "Documentos proibidos 0:\n",
      "[]\n",
      "\n",
      "Documentos em bemprocessado (402) que faltam em gambiarra (402):\n",
      "[]\n",
      "\n",
      "Documentos em gambiarra que faltam em bemprocessado:\n",
      "[]\n"
     ]
    }
   ],
   "source": [
    "print(f\"Documentos proibidos {(len(lista_documentos_proibidos))}:\")\n",
    "print(lista_documentos_proibidos)\n",
    "gambiarra.sentences = {x: y for x, y in gambiarra.sentences.items() if x.rsplit(\"-\", 1)[0] not in lista_documentos_proibidos}\n",
    "bemprocessado.sentences = {x: y for x, y in bemprocessado.sentences.items() if x.rsplit(\"-\", 1)[0] not in lista_documentos_proibidos}\n",
    "\n",
    "lista_documentos_bemprocessado = []\n",
    "[lista_documentos_bemprocessado.append(x.rsplit(\"-\", 1)[0]) for x in bemprocessado.sentences if x.rsplit(\"-\", 1)[0] not in lista_documentos_bemprocessado]\n",
    "lista_documentos_gambiarra = []\n",
    "[lista_documentos_gambiarra.append(x.rsplit(\"-\", 1)[0]) for x in gambiarra.sentences if x.rsplit(\"-\", 1)[0] not in lista_documentos_gambiarra]\n",
    "\n",
    "fora_de_gambiarra = [x for x in lista_documentos_bemprocessado if x not in lista_documentos_gambiarra]\n",
    "fora_de_bemprocessado = [x for x in lista_documentos_gambiarra if x not in lista_documentos_bemprocessado]\n",
    "print(f\"\\nDocumentos em bemprocessado ({len(lista_documentos_bemprocessado)}) que faltam em gambiarra ({len(lista_documentos_gambiarra)}):\")\n",
    "print(fora_de_gambiarra)\n",
    "print(\"\\nDocumentos em gambiarra que faltam em bemprocessado:\")\n",
    "print(fora_de_bemprocessado)"
   ]
  },
  {
   "cell_type": "code",
   "execution_count": 13,
   "metadata": {},
   "outputs": [],
   "source": [
    "gambiarra.save('gambiarra-utf8/udpipe/gambiarra_sentid_formula_normalizado.conllu')\n",
    "bemprocessado.save('processado-utf8/udpipe/bemprocessado_sentid_normalizado.conllu')"
   ]
  },
  {
   "cell_type": "markdown",
   "metadata": {},
   "source": [
    "# Anotar com jPTDP\n",
    "--> DEMORADO"
   ]
  },
  {
   "cell_type": "code",
   "execution_count": 15,
   "metadata": {},
   "outputs": [
    {
     "name": "stdout",
     "output_type": "stream",
     "text": [
      "Reading package lists... Done\n",
      "Building dependency tree       \n",
      "Reading state information... Done\n",
      "python-pip is already the newest version (9.0.1-2.3~ubuntu1.18.04.1).\n",
      "The following package was automatically installed and is no longer required:\n",
      "  libdumbnet1\n",
      "Use 'sudo apt autoremove' to remove it.\n",
      "0 upgraded, 0 newly installed, 0 to remove and 0 not upgraded.\n",
      "Collecting cython\n",
      "  Using cached https://files.pythonhosted.org/packages/7b/d2/060a4f311c3b4a83cb050882f1032dabd5c8045b489dc699cff60bcebdba/Cython-0.29.14-cp27-cp27mu-manylinux1_x86_64.whl\n",
      "Collecting numpy\n",
      "  Using cached https://files.pythonhosted.org/packages/3a/5f/47e578b3ae79e2624e205445ab77a1848acdaa2929a00eeef6b16eaaeb20/numpy-1.16.6-cp27-cp27mu-manylinux1_x86_64.whl\n",
      "Installing collected packages: cython, numpy\n",
      "Successfully installed cython-0.29.14 numpy-1.16.6\n",
      "Collecting dynet==2.0.3\n",
      "  Using cached https://files.pythonhosted.org/packages/4f/de/181a8380e9fdb89d9aa5838059336bb535503d5f2053e621438e69081407/dyNET-2.0.3-cp27-cp27mu-manylinux1_x86_64.whl\n",
      "Collecting numpy (from dynet==2.0.3)\n",
      "  Using cached https://files.pythonhosted.org/packages/3a/5f/47e578b3ae79e2624e205445ab77a1848acdaa2929a00eeef6b16eaaeb20/numpy-1.16.6-cp27-cp27mu-manylinux1_x86_64.whl\n",
      "Collecting cython (from dynet==2.0.3)\n",
      "  Using cached https://files.pythonhosted.org/packages/7b/d2/060a4f311c3b4a83cb050882f1032dabd5c8045b489dc699cff60bcebdba/Cython-0.29.14-cp27-cp27mu-manylinux1_x86_64.whl\n",
      "Installing collected packages: numpy, cython, dynet\n",
      "Successfully installed cython-0.29.14 dynet-2.0.3 numpy-1.16.6\n",
      "Will not apply HSTS. The HSTS database must be a regular and non-world-writable file.\n",
      "ERROR: could not open HSTS store at '/home/elvis/.wget-hsts'. HSTS will be disabled.\n",
      "--2020-01-28 19:46:33--  https://www.dropbox.com/s/fn0r48xhn67inpt/outputs.tar.gz\n",
      "Resolving www.dropbox.com (www.dropbox.com)... 162.125.5.1, 2620:100:601d:1::a27d:501\n",
      "Connecting to www.dropbox.com (www.dropbox.com)|162.125.5.1|:443... connected.\n",
      "HTTP request sent, awaiting response... 301 Moved Permanently\n",
      "Location: /s/raw/fn0r48xhn67inpt/outputs.tar.gz [following]\n",
      "--2020-01-28 19:46:42--  https://www.dropbox.com/s/raw/fn0r48xhn67inpt/outputs.tar.gz\n",
      "Reusing existing connection to www.dropbox.com:443.\n",
      "HTTP request sent, awaiting response... 302 Found\n",
      "Location: https://uca0d830a5bc4a82dde796c2d491.dl.dropboxusercontent.com/cd/0/inline/AxD2G4nj7yakMSjRE4y_YcQAHVKdbarXpH4iEcyhUN2SsS9UJKZ-_IUXgwKhu7BBiWejoM7s9HsxJJMys_XpWaJzQzjXdCnI1BR6_NUwa-MpsRQRzC-8dYHG6yoINcgz4n0/file# [following]\n",
      "--2020-01-28 19:46:42--  https://uca0d830a5bc4a82dde796c2d491.dl.dropboxusercontent.com/cd/0/inline/AxD2G4nj7yakMSjRE4y_YcQAHVKdbarXpH4iEcyhUN2SsS9UJKZ-_IUXgwKhu7BBiWejoM7s9HsxJJMys_XpWaJzQzjXdCnI1BR6_NUwa-MpsRQRzC-8dYHG6yoINcgz4n0/file\n",
      "Resolving uca0d830a5bc4a82dde796c2d491.dl.dropboxusercontent.com (uca0d830a5bc4a82dde796c2d491.dl.dropboxusercontent.com)... 162.125.5.6, 2620:100:601d:6::a27d:506\n",
      "Connecting to uca0d830a5bc4a82dde796c2d491.dl.dropboxusercontent.com (uca0d830a5bc4a82dde796c2d491.dl.dropboxusercontent.com)|162.125.5.6|:443... connected.\n",
      "HTTP request sent, awaiting response... 302 FOUND\n",
      "Location: /cd/0/inline2/AxC6Ef7c6VMjrTzJNe6xNSWrbEsDZDF6Ek9mEI9vYCvo5i2XY5SdFqinqhZE5GNprt5bKSBojn4aiDkhhxn0wYbN3DWcdaklGP1kUoQDoJfRMrIR2I0HxXV0-GeyFgwYMpEAhqTK6wyqkdV3HLU9DnLu6gXyVP36a74_mb0mY7ub9aygFNuCrCadxnTrNow36BV_uY8oSZf5utYmmLZp7CNlwZoivRiWDWOmm9MqT1JOY2OTph04LM-vfJ8c9q6ijGAd87YwSPPJkCBYb1LuBPdEp3uT1tdxwJ0-8DNNoQYZfLXeIglIOC_BS-5RN2Q-Rn5MICxzdUO7n7TuWhpIvLZT1zTbgxVeLx6pb5lrmGvpbw/file [following]\n",
      "--2020-01-28 19:46:52--  https://uca0d830a5bc4a82dde796c2d491.dl.dropboxusercontent.com/cd/0/inline2/AxC6Ef7c6VMjrTzJNe6xNSWrbEsDZDF6Ek9mEI9vYCvo5i2XY5SdFqinqhZE5GNprt5bKSBojn4aiDkhhxn0wYbN3DWcdaklGP1kUoQDoJfRMrIR2I0HxXV0-GeyFgwYMpEAhqTK6wyqkdV3HLU9DnLu6gXyVP36a74_mb0mY7ub9aygFNuCrCadxnTrNow36BV_uY8oSZf5utYmmLZp7CNlwZoivRiWDWOmm9MqT1JOY2OTph04LM-vfJ8c9q6ijGAd87YwSPPJkCBYb1LuBPdEp3uT1tdxwJ0-8DNNoQYZfLXeIglIOC_BS-5RN2Q-Rn5MICxzdUO7n7TuWhpIvLZT1zTbgxVeLx6pb5lrmGvpbw/file\n",
      "Reusing existing connection to uca0d830a5bc4a82dde796c2d491.dl.dropboxusercontent.com:443.\n",
      "HTTP request sent, awaiting response... 200 OK\n",
      "Length: 136322224 (130M) [application/octet-stream]\n",
      "Saving to: ‘outputs.tar.gz’\n",
      "\n",
      "outputs.tar.gz      100%[===================>] 130.01M   653KB/s    in 3m 33s  \n",
      "\n",
      "2020-01-28 19:50:26 (625 KB/s) - ‘outputs.tar.gz’ saved [136322224/136322224]\n",
      "\n",
      "outputs/\n",
      "outputs/jPTDP_pt_ud.model\n",
      "outputs/jPTDP_pt_ud.params\n"
     ]
    }
   ],
   "source": [
    "! sudo -S apt install python-pip --yes < ~/sudopass\n",
    "! pip install cython numpy\n",
    "! pip install dynet==2.0.3\n",
    "! cd ../jPTDP; wget https://www.dropbox.com/s/fn0r48xhn67inpt/outputs.tar.gz; tar -xvzf outputs.tar.gz"
   ]
  },
  {
   "cell_type": "code",
   "execution_count": null,
   "metadata": {},
   "outputs": [
    {
     "name": "stdout",
     "output_type": "stream",
     "text": [
      "[dynet] random seed: 3378766694\n",
      "[dynet] allocating memory: 8000MB\n",
      "[dynet] memory allocation done.\n",
      "Loading pre-trained model\n",
      "Predicting POS tags and parsing dependencies\n"
     ]
    }
   ],
   "source": [
    "! python ../jPTDP/src/jPTDP.py --predict --model ../jPTDP/outputs/jPTDP_pt_ud.model --params ../jPTDP/outputs/jPTDP_pt_ud.params --test gambiarra-utf8/udpipe/gambiarra_sentid_formula_normalizado.conllu --outdir gambiarra-utf8/jptdp --output gambiarra_jptdp.conllu --dynet-mem 16000"
   ]
  },
  {
   "cell_type": "code",
   "execution_count": null,
   "metadata": {},
   "outputs": [
    {
     "name": "stdout",
     "output_type": "stream",
     "text": [
      "[dynet] random seed: 2794690350\n",
      "[dynet] allocating memory: 16000MB\n",
      "[dynet] memory allocation done.\n",
      "Loading pre-trained model\n",
      "Predicting POS tags and parsing dependencies\n"
     ]
    }
   ],
   "source": [
    "! python ../jPTDP/src/jPTDP.py --predict --model ../jPTDP/outputs/jPTDP_pt_ud.model --params ../jPTDP/outputs/jPTDP_pt_ud.params --test gambiarra-utf8/udpipe/gambiarra_sentid_formula_normalizado_4_fevereiro.conllu --outdir gambiarra-utf8/jptdp --output gambiarra_jptdp_4_fevereiro.conllu --dynet-mem 16000"
   ]
  },
  {
   "cell_type": "code",
   "execution_count": null,
   "metadata": {},
   "outputs": [
    {
     "name": "stdout",
     "output_type": "stream",
     "text": [
      "[dynet] random seed: 1083583026\n",
      "[dynet] allocating memory: 16000MB\n",
      "[dynet] memory allocation done.\n",
      "Loading pre-trained model\n",
      "Predicting POS tags and parsing dependencies\n"
     ]
    }
   ],
   "source": [
    "! python ../jPTDP/src/jPTDP.py --predict --model ../jPTDP/outputs/jPTDP_pt_ud.model --params ../jPTDP/outputs/jPTDP_pt_ud.params --test processado-utf8/udpipe/bemprocessado_sentid_normalizado.conllu --outdir processado-utf8/jptdp --output bemprocessado_jptdp.conllu --dynet-mem 16000"
   ]
  },
  {
   "cell_type": "code",
   "execution_count": null,
   "metadata": {},
   "outputs": [
    {
     "name": "stdout",
     "output_type": "stream",
     "text": [
      "[dynet] random seed: 563554962\n",
      "[dynet] allocating memory: 16000MB\n",
      "[dynet] memory allocation done.\n",
      "Loading pre-trained model\n",
      "Predicting POS tags and parsing dependencies\n"
     ]
    }
   ],
   "source": [
    "! python ../jPTDP/src/jPTDP.py --predict --model ../jPTDP/outputs/jPTDP_pt_ud.model --params ../jPTDP/outputs/jPTDP_pt_ud.params --test processado-utf8/udpipe/bemprocessado_sentid_normalizado_5_fevereiro.conllu --outdir processado-utf8/jptdp --output bemprocessado_jptdp_5_fevereiro.conllu --dynet-mem 16000"
   ]
  },
  {
   "cell_type": "code",
   "execution_count": 1,
   "metadata": {},
   "outputs": [
    {
     "name": "stdout",
     "output_type": "stream",
     "text": [
      "[dynet] random seed: 1452270485\n",
      "[dynet] allocating memory: 16000MB\n",
      "[dynet] memory allocation done.\n",
      "Loading pre-trained model\n",
      "Predicting POS tags and parsing dependencies\n"
     ]
    }
   ],
   "source": [
    "! python ../jPTDP/src/jPTDP.py --predict --model ../jPTDP/outputs/jPTDP_pt_ud.model --params ../jPTDP/outputs/jPTDP_pt_ud.params --test processado-utf8/udpipe/bemprocessado_sentid_normalizado_6_fevereiro.conllu --outdir processado-utf8/jptdp --output bemprocessado_jptdp_6_fevereiro.conllu --dynet-mem 16000"
   ]
  },
  {
   "cell_type": "markdown",
   "metadata": {},
   "source": [
    "# Abrir 400TEM jPTDP\n",
    "--> DEMORADO"
   ]
  },
  {
   "cell_type": "code",
   "execution_count": 5,
   "metadata": {},
   "outputs": [],
   "source": [
    "gambiarra = estrutura_ud.Corpus()\n",
    "gambiarra.load(\"gambiarra-utf8/jptdp/gambiarra_jptdp_final.conllu\")"
   ]
  },
  {
   "cell_type": "code",
   "execution_count": 6,
   "metadata": {},
   "outputs": [],
   "source": [
    "bemprocessado = estrutura_ud.Corpus()\n",
    "bemprocessado.load(\"processado-utf8/jptdp/bemprocessado_jptdp_final.conllu\")"
   ]
  },
  {
   "cell_type": "markdown",
   "metadata": {},
   "source": [
    "# Volte três casas: teste e normalização em jPTDP"
   ]
  },
  {
   "cell_type": "markdown",
   "metadata": {},
   "source": [
    "# Distribuição de DP e POS (ajustar onde)"
   ]
  },
  {
   "cell_type": "code",
   "execution_count": 9,
   "metadata": {},
   "outputs": [
    {
     "name": "stdout",
     "output_type": "stream",
     "text": [
      "Classes em gambiarra (56)\n",
      "['ADJ', 'ADP', 'ADV', 'AUX', 'CCONJ', 'DET', 'INTJ', 'NOUN', 'NUM', 'PRON', 'PROPN', 'PUNCT', 'ROOT-POS', 'SCONJ', 'SYM', 'VERB', 'X', 'acl', 'acl:relcl', 'advcl', 'advmod', 'amod', 'appos', 'appos:parataxis', 'aux', 'aux:pass', 'case', 'cc', 'ccomp', 'ccomp:parataxis', 'compound', 'conj', 'cop', 'csubj', 'det', 'discourse', 'dislocated', 'expl', 'fixed', 'flat', 'flat:foreign', 'flat:name', 'iobj', 'mark', 'nmod', 'nsubj', 'nsubj:pass', 'nummod', 'obj', 'obl', 'obl:agent', 'parataxis', 'punct', 'root', 'vocative', 'xcomp']\n",
      "\n",
      "Classes em bemprocessado (57)\n",
      "['ADJ', 'ADP', 'ADV', 'AUX', 'CCONJ', 'DET', 'INTJ', 'NOUN', 'NUM', 'PRON', 'PROPN', 'PUNCT', 'ROOT-POS', 'SCONJ', 'SYM', 'VERB', 'X', 'acl', 'acl:relcl', 'advcl', 'advmod', 'amod', 'appos', 'appos:parataxis', 'aux', 'aux:pass', 'case', 'cc', 'ccomp', 'ccomp:parataxis', 'compound', 'conj', 'cop', 'csubj', 'det', 'discourse', 'dislocated', 'expl', 'fixed', 'flat', 'flat:foreign', 'flat:name', 'iobj', 'mark', 'nmod', 'nsubj', 'nsubj:pass', 'nummod', 'obj', 'obl', 'obl:agent', 'orphan', 'parataxis', 'punct', 'root', 'vocative', 'xcomp']\n"
     ]
    }
   ],
   "source": [
    "dic_pos_dp_gambiarra = {}\n",
    "dic_pos_dp_bemprocessado = {}\n",
    "for sent, sentence in gambiarra.sentences.items():\n",
    "    for t, token in enumerate(sentence.tokens):\n",
    "        if not '-' in token.id:\n",
    "            dic_pos_dp_gambiarra[token.upos] = 1 if not token.upos in dic_pos_dp_gambiarra else dic_pos_dp_gambiarra[token.upos] + 1\n",
    "            dic_pos_dp_gambiarra[token.deprel] = 1 if not token.deprel in dic_pos_dp_gambiarra else dic_pos_dp_gambiarra[token.deprel] + 1\n",
    "for sent, sentence in bemprocessado.sentences.items():\n",
    "    for t, token in enumerate(sentence.tokens):\n",
    "        if not '-' in token.id:\n",
    "            dic_pos_dp_bemprocessado[token.upos] = 1 if not token.upos in dic_pos_dp_bemprocessado else dic_pos_dp_bemprocessado[token.upos] + 1\n",
    "            dic_pos_dp_bemprocessado[token.deprel] = 1 if not token.deprel in dic_pos_dp_bemprocessado else dic_pos_dp_bemprocessado[token.deprel] + 1\n",
    "\n",
    "print(f\"Classes em gambiarra ({len(dic_pos_dp_gambiarra)})\")\n",
    "print(sorted(dic_pos_dp_gambiarra))\n",
    "print(f\"\\nClasses em bemprocessado ({len(dic_pos_dp_bemprocessado)})\")\n",
    "print(sorted(dic_pos_dp_bemprocessado))"
   ]
  },
  {
   "cell_type": "markdown",
   "metadata": {},
   "source": [
    "# Número de sentenças e tokens"
   ]
  },
  {
   "cell_type": "code",
   "execution_count": 10,
   "metadata": {},
   "outputs": [
    {
     "name": "stdout",
     "output_type": "stream",
     "text": [
      "402 documentos foram encontrados em FINAL\n",
      "* 0-20150121-TESEMSC_0\n",
      "* 10-20150122-MONOGRAFIA_0\n",
      "* 100-20151215-MONOGRAFIA_0\n",
      "* 101-20151215-MONOGRAFIA_0\n",
      "* 102-20151215-MONOGRAFIA_0\n",
      "* 103-20151215-MONOGRAFIA_0\n",
      "* 104-20151214-TESEMSC_0\n",
      "* 105-20151215-MONOGRAFIA_0\n",
      "* 106-20141201-TESEDSC_0\n",
      "* 107-20121015-TESEMSC_0\n",
      "* 108-20121011-TESEMSC_0\n",
      "* 109-20121011-TESEMSC_0\n",
      "* 11-20150121-TESEMSC_0\n",
      "* 110-20140928-MONOGRAFIA_0\n",
      "* 112-20141112-TESEMSC_0\n",
      "* 113-20140906-TESEMSC_0\n",
      "* 114-20121011-MONOGRAFIA_0\n",
      "* 115-20121011-MONOGRAFIA_0\n",
      "* 116-20141209-TESEMSC_0\n",
      "* 117-20130513-TESEMSC_0\n",
      "* 118-20141125-TESEMSC_0\n",
      "* 119-20141209-TESEMSC_0\n",
      "* 12-20150123-MONOGRAFIA_0\n",
      "* 120-20121105-TESEMSC_0\n",
      "* 121-20121130-MONOGRAFIA_0\n",
      "* 122-20121105-TESEMSC_0\n",
      "* 123-20140128-TESEMSC_0\n",
      "* 124-20121105-MONOGRAFIA_0\n",
      "* 125-20141210-MONOGRAFIA_0\n",
      "* 126-20141210-MONOGRAFIA_0\n",
      "* 127-20140924-MONOGRAFIA_0\n",
      "* 128-20140912-MONOGRAFIA_1\n",
      "* 129-20140925-MONOGRAFIA_0\n",
      "* 13-20140910-MONOGRAFIA_0\n",
      "* 130-20140916-MONOGRAFIA_0\n",
      "* 131-20150511-TESEDSC_0\n",
      "* 132-20140916-TESEMSC_0\n",
      "* 133-20151112-TESEDSC_0\n",
      "* 134-20151209-TESEDSC_0\n",
      "* 135-20150507-TESEMSC_0\n",
      "* 136-20140804-MONOGRAFIA_0\n",
      "* 137-20140928-MONOGRAFIA_0\n",
      "* 138-20141210-MONOGRAFIA_0\n",
      "* 139-20141210-MONOGRAFIA_0\n",
      "* 14-20150519-TESEMSC_0\n",
      "* 141-20141205-TESEDSC_1\n",
      "* 142-20150327-TESEDSC_0\n",
      "* 143-20140811-MONOGRAFIA_0\n",
      "* 144-20140925-MONOGRAFIA_0\n",
      "* 145-20140924-MONOGRAFIA_0\n",
      "* 146-20121107-TESEMSC_0\n",
      "* 147-20141017-TESEMSC_0\n",
      "* 148-20121113-TESEMSC_0\n",
      "* 149-20130317-TESEDSC_0\n",
      "* 15-20150122-MONOGRAFIA_0\n",
      "* 150-20141031-TESEDSC_0\n",
      "* 151-20140917-MONOGRAFIA_0\n",
      "* 152-20140917-MONOGRAFIA_0\n",
      "* 153-20140917-MONOGRAFIA_0\n",
      "* 154-20140916-MONOGRAFIA_0\n",
      "* 155-20140925-TESEMSC_0\n",
      "* 156-20140925-TESEMSC_0\n",
      "* 157-20140925-TESEMSC_0\n",
      "* 158-20150811-TESEMSC_0\n",
      "* 159-20150811-MONOGRAFIA_0\n",
      "* 16-20150122-MONOGRAFIA_0\n",
      "* 160-20150811-MONOGRAFIA_0\n",
      "* 161-20150810-MONOGRAFIA_0\n",
      "* 162-20150811-MONOGRAFIA_0\n",
      "* 163-20140917-MONOGRAFIA_0\n",
      "* 164-20140917-MONOGRAFIA_0\n",
      "* 165-20150811-MONOGRAFIA_0\n",
      "* 166-20160602-MONOGRAFIA_0\n",
      "* 167-20130501-MONOGRAFIA_0\n",
      "* 168-20121220-MONOGRAFIA_0\n",
      "* 169-20121217-MONOGRAFIA_0\n",
      "* 17-20150121-MONOGRAFIA_0\n",
      "* 170-20130607-TESEMSC_0\n",
      "* 171-20141015-MONOGRAFIA_1\n",
      "* 172-20141015-MONOGRAFIA_1\n",
      "* 173-20141015-MONOGRAFIA_1\n",
      "* 174-20141015-MONOGRAFIA_1\n",
      "* 175-20141015-MONOGRAFIA_1\n",
      "* 176-20141015-MONOGRAFIA_0\n",
      "* 177-20141015-MONOGRAFIA_1\n",
      "* 178-20141015-TESEMSC_1\n",
      "* 179-20150721-TESEDSC_0\n",
      "* 180-20140922-MONOGRAFIA_0\n",
      "* 181-20140922-MONOGRAFIA_0\n",
      "* 182-20140922-MONOGRAFIA_0\n",
      "* 183-20140922-MONOGRAFIA_0\n",
      "* 184-20140922-MONOGRAFIA_0\n",
      "* 185-20140922-MONOGRAFIA_0\n",
      "* 186-20121206-TESEDSC_1\n",
      "* 187-20121119-TESEMSC_0\n",
      "* 188-20141103-MONOGRAFIA_1\n",
      "* 189-20150410-TESEMSC_0\n",
      "* 19-20140916-TESEDSC_0\n",
      "* 190-20140204-TESEMSC_0\n",
      "* 191-20130320-TESEMSC_0\n",
      "* 192-20141031-MONOGRAFIA_0\n",
      "* 193-20141216-TESEDSC_0\n",
      "* 194-20160808-TESEDSC_0\n",
      "* 195-20150918-MONOGRAFIA_1\n",
      "* 196-20140915-TESEMSC_0\n",
      "* 198-20150909-MONOGRAFIA_0\n",
      "* 199-20141029-MONOGRAFIA_0\n",
      "* 2-20150126-TESEDSC_0\n",
      "* 20-20140904-TESEDSC_0\n",
      "* 200-20140327-TESEMSC_0\n",
      "* 201-20140911-MONOGRAFIA_1\n",
      "* 202-20140404-MONOGRAFIA_0\n",
      "* 203-20140929-MONOGRAFIA_0\n",
      "* 204-20140404-TESEMSC_0\n",
      "* 205-20140930-TESEMSC_0\n",
      "* 206-20130226-TESEMSC_0\n",
      "* 207-20131205-TESEMSC_0\n",
      "* 208-20150407-MONOGRAFIA_0\n",
      "* 209-20150513-MONOGRAFIA_0\n",
      "* 21-20140905-TESEDSC_0\n",
      "* 210-20141229-MONOGRAFIA_0\n",
      "* 211-20141112-MONOGRAFIA_0\n",
      "* 212-20151203-TESEDSC_0\n",
      "* 213-20140922-MONOGRAFIA_0\n",
      "* 214-20140922-TESEMSC_0\n",
      "* 215-20140922-TESEMSC_0\n",
      "* 216-20140910-TESEMSC_0\n",
      "* 217-20140922-TESEMSC_0\n",
      "* 218-20150327-TESEDSC_0\n",
      "* 219-20141031-MONOGRAFIA_0\n",
      "* 22-20150122-MONOGRAFIA_0\n",
      "* 220-20140916-TESEMSC_1\n",
      "* 221-20140915-TESEMSC_0\n",
      "* 222-20141015-TESEMSC_1\n",
      "* 223-20140911-MONOGRAFIA_0\n",
      "* 224-20141023-MONOGRAFIA_0\n",
      "* 225-20150810-MONOGRAFIA_0\n",
      "* 226-20150810-MONOGRAFIA_0\n",
      "* 227-20150810-MONOGRAFIA_0\n",
      "* 228-20150810-TESEMSC_0\n",
      "* 229-20150810-TESEMSC_0\n",
      "* 23-20150115-MONOGRAFIA_0\n",
      "* 230-20150810-TESEMSC_0\n",
      "* 231-20150409-MONOGRAFIA_0\n",
      "* 232-20150409-MONOGRAFIA_0\n",
      "* 233-20150409-TESEMSC_0\n",
      "* 234-20150409-TESEMSC_0\n",
      "* 235-20131018-MONOGRAFIA_0\n",
      "* 236-20140218-MONOGRAFIA_0\n",
      "* 237-20131018-MONOGRAFIA_0\n",
      "* 238-20141015-MONOGRAFIA_1\n",
      "* 239-20150413-TESEMSC_0\n",
      "* 24-20150122-MONOGRAFIA_0\n",
      "* 240-20140220-MONOGRAFIA_0\n",
      "* 241-20140227-MONOGRAFIA_0\n",
      "* 242-20140530-TESEMSC_0\n",
      "* 243-20141015-MONOGRAFIA_1\n",
      "* 244-20150521-MONOGRAFIA_0\n",
      "* 245-20140910-MONOGRAFIA_0\n",
      "* 246-20140910-MONOGRAFIA_0\n",
      "* 247-20140910-MONOGRAFIA_0\n",
      "* 248-20140910-MONOGRAFIA_0\n",
      "* 249-20140910-MONOGRAFIA_0\n",
      "* 25-20150123-MONOGRAFIA_0\n",
      "* 250-20140218-TESEMSC_0\n",
      "* 251-20141023-MONOGRAFIA_0\n",
      "* 252-20140916-MONOGRAFIA_0\n",
      "* 253-20131018-TESEMSC_0\n",
      "* 254-20140923-MONOGRAFIA_0\n",
      "* 256-20140917-MONOGRAFIA_0\n",
      "* 257-20131211-MONOGRAFIA_0\n",
      "* 258-20160602-TESEMSC_0\n",
      "* 259-20160602-MONOGRAFIA_0\n",
      "* 26-20150121-MONOGRAFIA_0\n",
      "* 260-20140804-MONOGRAFIA_0\n",
      "* 261-20140916-MONOGRAFIA_1\n",
      "* 262-20150319-MONOGRAFIA_0\n",
      "* 263-20141003-MONOGRAFIA_0\n",
      "* 264-20141027-MONOGRAFIA_0\n",
      "* 265-20141024-MONOGRAFIA_0\n",
      "* 266-20141001-MONOGRAFIA_0\n",
      "* 267-20150709-MONOGRAFIA_0\n",
      "* 268-20140506-TESEMSC_0\n",
      "* 269-20150126-MONOGRAFIA_0\n",
      "* 27-20150519-MONOGRAFIA_0\n",
      "* 270-20150126-MONOGRAFIA_0\n",
      "* 271-20150810-MONOGRAFIA_0\n",
      "* 272-20141204-MONOGRAFIA_0\n",
      "* 274-20140915-MONOGRAFIA_0\n",
      "* 275-20140915-MONOGRAFIA_0\n",
      "* 276-20140530-MONOGRAFIA_0\n",
      "* 277-20141016-MONOGRAFIA_0\n",
      "* 278-20140924-MONOGRAFIA_0\n",
      "* 279-20140530-MONOGRAFIA_0\n",
      "* 28-20150519-TESEDSC_0\n",
      "* 280-20150325-MONOGRAFIA_0\n",
      "* 281-20140915-MONOGRAFIA_0\n",
      "* 282-20150810-MONOGRAFIA_0\n",
      "* 283-20150917-MONOGRAFIA_0\n",
      "* 284-20150917-MONOGRAFIA_0\n",
      "* 285-20160602-MONOGRAFIA_0\n",
      "* 286-20140827-MONOGRAFIA_0\n",
      "* 287-20140609-MONOGRAFIA_0\n",
      "* 288-20140905-MONOGRAFIA_0\n",
      "* 289-20150902-TESEMSC_0\n",
      "* 290-20150504-TESEMSC_0\n",
      "* 291-20150331-MONOGRAFIA_0\n",
      "* 292-20150326-MONOGRAFIA_0\n",
      "* 293-20150413-MONOGRAFIA_0\n",
      "* 294-20150923-TESEMSC_0\n",
      "* 295-20150914-TESEMSC_0\n",
      "* 296-20150819-MONOGRAFIA_0\n",
      "* 297-20150811-TESEMSC_0\n",
      "* 298-20150528-TESEMSC_0\n",
      "* 299-20150521-TESEMSC_1\n",
      "* 3-20150518-TESEMSC_0\n",
      "* 30-20140327-TESEMSC_0\n",
      "* 300-20150527-TESEMSC_0\n",
      "* 301-20150527-MONOGRAFIA_0\n",
      "* 302-20150811-TESEMSC_0\n",
      "* 303-20150917-TESEMSC_0\n",
      "* 304-20150812-TESEMSC_0\n",
      "* 305-20160928-MONOGRAFIA_0\n",
      "* 306-20150409-TESEMSC_0\n",
      "* 307-20150413-MONOGRAFIA_0\n",
      "* 308-20150413-MONOGRAFIA_0\n",
      "* 309-20150408-MONOGRAFIA_0\n",
      "* 31-20140915-TESEDSC_0\n",
      "* 310-20150413-MONOGRAFIA_0\n",
      "* 311-20150413-MONOGRAFIA_0\n",
      "* 312-20150413-MONOGRAFIA_0\n",
      "* 313-20150917-TESEMSC_0\n",
      "* 314-20150407-TESEMSC_0\n",
      "* 315-20150504-TESEMSC_0\n",
      "* 316-20150330-TESEMSC_0\n",
      "* 317-20150703-TESEMSC_0\n",
      "* 318-20160606-TESEMSC_0\n",
      "* 319-20150702-TESEMSC_0\n",
      "* 32-20141110-MONOGRAFIA_0\n",
      "* 320-20150513-TESEMSC_0\n",
      "* 321-20151204-TESEMSC_0\n",
      "* 322-20150327-TESEMSC_0\n",
      "* 323-20140905-MONOGRAFIA_0\n",
      "* 324-20140925-MONOGRAFIA_0\n",
      "* 325-20150810-MONOGRAFIA_0\n",
      "* 326-20150810-MONOGRAFIA_0\n",
      "* 327-20160725-MONOGRAFIA_0\n",
      "* 328-20140905-MONOGRAFIA_0\n",
      "* 329-20150810-MONOGRAFIA_0\n",
      "* 33-20141126-TESEMSC_1\n",
      "* 330-20150917-TESEMSC_0\n",
      "* 331-20141031-MONOGRAFIA_0\n",
      "* 332-20140804-MONOGRAFIA_0\n",
      "* 333-20150528-TESEDSC_0\n",
      "* 334-20150521-MONOGRAFIA_0\n",
      "* 335-20150521-MONOGRAFIA_0\n",
      "* 336-20150902-TESEMSC_0\n",
      "* 337-20140915-MONOGRAFIA_0\n",
      "* 338-20151222-TESEMSC_0\n",
      "* 339-20160602-TESEMSC_0\n",
      "* 34-20141113-TESEMSC_0\n",
      "* 340-20160602-MONOGRAFIA_0\n",
      "* 341-20150811-MONOGRAFIA_0\n",
      "* 342-20150331-TESEMSC_0\n",
      "* 344-20150401-TESEMSC_0\n",
      "* 345-20150331-MONOGRAFIA_0\n",
      "* 346-20150904-TESEMSC_0\n",
      "* 347-20160623-TESEDSC_0\n",
      "* 348-20160602-TESEDSC_0\n",
      "* 349-20150917-MONOGRAFIA_0\n",
      "* 35-20141113-TESEMSC_0\n",
      "* 350-20150909-TESEMSC_0\n",
      "* 351-20141016-MONOGRAFIA_0\n",
      "* 352-20160914-MONOGRAFIA_0\n",
      "* 353-20150810-MONOGRAFIA_0\n",
      "* 354-20150407-MONOGRAFIA_0\n",
      "* 355-20150702-MONOGRAFIA_0\n",
      "* 356-20150407-MONOGRAFIA_0\n",
      "* 357-20150327-MONOGRAFIA_0\n",
      "* 358-20150303-TESEDSC_0\n",
      "* 359-20150729-TESEMSC_0\n",
      "* 36-20140327-TESEMSC_0\n",
      "* 360-20160602-MONOGRAFIA_0\n",
      "* 361-20150225-TESEMSC_1\n",
      "* 362-20140922-MONOGRAFIA_0\n",
      "* 363-20150326-MONOGRAFIA_0\n",
      "* 364-20150326-MONOGRAFIA_0\n",
      "* 365-20140922-MONOGRAFIA_0\n",
      "* 366-20160229-MONOGRAFIA_0\n",
      "* 367-20150326-MONOGRAFIA_0\n",
      "* 368-20150922-TESEMSC_0\n",
      "* 369-20150827-MONOGRAFIA_0\n",
      "* 370-20150827-MONOGRAFIA_0\n",
      "* 371-20150827-MONOGRAFIA_0\n",
      "* 372-20150914-MONOGRAFIA_0\n",
      "* 373-20150911-MONOGRAFIA_0\n",
      "* 374-20160926-TESEMSC_0\n",
      "* 375-20160923-TESEMSC_0\n",
      "* 376-20150430-MONOGRAFIA_0\n",
      "* 377-20150430-MONOGRAFIA_0\n",
      "* 378-20150430-MONOGRAFIA_0\n",
      "* 379-20160809-TESEMSC_0\n",
      "* 38-20150210-TESEDSC_0\n",
      "* 380-20150505-MONOGRAFIA_0\n",
      "* 381-20160602-TESEMSC_0\n",
      "* 382-20160914-TESEMSC_0\n",
      "* 383-20160614-TESEDSC_0\n",
      "* 384-20150810-MONOGRAFIA_0\n",
      "* 385-20160713-MONOGRAFIA_0\n",
      "* 386-20150902-MONOGRAFIA_0\n",
      "* 387-20160602-MONOGRAFIA_0\n",
      "* 388-20160602-MONOGRAFIA_0\n",
      "* 389-20160608-TESEMSC_0\n",
      "* 39-20141024-TESEMSC_0\n",
      "* 390-20150326-MONOGRAFIA_1\n",
      "* 391-20160914-MONOGRAFIA_0\n",
      "* 392-20160721-MONOGRAFIA_0\n",
      "* 393-20160725-MONOGRAFIA_0\n",
      "* 394-20160725-MONOGRAFIA_0\n",
      "* 395-20160722-MONOGRAFIA_0\n",
      "* 396-20160722-MONOGRAFIA_0\n",
      "* 397-20160915-MONOGRAFIA_1\n",
      "* 398-20160721-MONOGRAFIA_0\n",
      "* 399-20160722-MONOGRAFIA_0\n",
      "* 4-20140915-TESEDSC_0\n",
      "* 40-20150519-TESEMSC_0\n",
      "* 400-20160721-MONOGRAFIA_0\n",
      "* 401-20160725-MONOGRAFIA_0\n",
      "* 402-20160914-MONOGRAFIA_0\n",
      "* 403-20160722-MONOGRAFIA_0\n",
      "* 404-20160721-MONOGRAFIA_0\n",
      "* 405-20160725-MONOGRAFIA_0\n",
      "* 406-20160602-MONOGRAFIA_0\n",
      "* 407-20160614-MONOGRAFIA_0\n",
      "* 408-20160614-MONOGRAFIA_0\n",
      "* 409-20150727-MONOGRAFIA_0\n",
      "* 41-20141210-TESEMSC_0\n",
      "* 410-20150630-MONOGRAFIA_0\n",
      "* 411-20150702-MONOGRAFIA_0\n",
      "* 412-20150713-MONOGRAFIA_0\n",
      "* 413-20150922-TESEMSC_0\n",
      "* 414-20160628-TESEMSC_1\n",
      "* 415-20160623-TESEMSC_0\n",
      "* 416-20160920-MONOGRAFIA_0\n",
      "* 417-20160914-TESEMSC_0\n",
      "* 418-20160701-TESEMSC_0\n",
      "* 419-20160704-MONOGRAFIA_0\n",
      "* 42-20141210-TESEMSC_0\n",
      "* 44-20150519-MONOGRAFIA_0\n",
      "* 45-20150519-MONOGRAFIA_0\n",
      "* 46-20120904-MONOGRAFIA_0\n",
      "* 47-20150126-MONOGRAFIA_0\n",
      "* 48-20150126-MONOGRAFIA_0\n",
      "* 49-20150121-TESEMSC_0\n",
      "* 50-20140917-MONOGRAFIA_0\n",
      "* 51-20140924-MONOGRAFIA_0\n",
      "* 53-20140905-TESEDSC_0\n",
      "* 54-20141209-TESEDSC_0\n",
      "* 55-20141209-TESEMSC_0\n",
      "* 56-20140910-MONOGRAFIA_0\n",
      "* 57-20150519-TESEMSC_0\n",
      "* 58-20150519-MONOGRAFIA_0\n",
      "* 59-20150903-TESEMSC_0\n",
      "* 6-20140908-MONOGRAFIA_0\n",
      "* 60-20150507-TESEDSC_0\n",
      "* 61-20150609-TESEDSC_0\n",
      "* 62-20150313-TESEDSC_0\n",
      "* 63-20141024-TESEDSC_0\n",
      "* 64-20141024-TESEDSC_0\n",
      "* 65-20141024-TESEMSC_0\n",
      "* 66-20140905-TESEMSC_0\n",
      "* 67-20150519-MONOGRAFIA_0\n",
      "* 68-20150519-MONOGRAFIA_0\n",
      "* 69-20150519-MONOGRAFIA_0\n",
      "* 7-20140908-TESEMSC_0\n",
      "* 70-20150519-MONOGRAFIA_0\n",
      "* 71-20141222-TESEDSC_0\n",
      "* 73-20140916-MONOGRAFIA_0\n",
      "* 74-20140924-TESEMSC_0\n",
      "* 75-20141125-MONOGRAFIA_0\n",
      "* 76-20141210-TESEMSC_0\n",
      "* 77-20141209-TESEMSC_0\n",
      "* 8-20150127-TESEMSC_1\n",
      "* 80-20140915-TESEDSC_0\n",
      "* 81-20140908-MONOGRAFIA_0\n",
      "* 82-20140910-MONOGRAFIA_0\n",
      "* 83-20140910-MONOGRAFIA_0\n",
      "* 84-20140910-MONOGRAFIA_0\n",
      "* 85-20140910-MONOGRAFIA_0\n",
      "* 86-20140910-MONOGRAFIA_0\n",
      "* 87-20140910-MONOGRAFIA_0\n",
      "* 88-20140908-MONOGRAFIA_0\n",
      "* 90-20141119-TESEDSC_1\n",
      "* 91-20150519-MONOGRAFIA_0\n",
      "* 92-20140928-MONOGRAFIA_0\n",
      "* 93-20140923-TESEDSC_0\n",
      "* 94-20140928-MONOGRAFIA_0\n",
      "* 95-20140928-MONOGRAFIA_0\n",
      "* 96-20140928-MONOGRAFIA_0\n",
      "* 97-20140928-MONOGRAFIA_0\n",
      "* 98-20140331-TESEDSC_0\n",
      "* 99-20160921-TESEMSC_0\n",
      "\n",
      "|Versão|Sentenças|Tokens|\n",
      "|---|---|---|\n"
     ]
    },
    {
     "name": "stdout",
     "output_type": "stream",
     "text": [
      "|GAMBIARRA|983615|19873003|\n",
      "|FINAL|268663|6792345|\n"
     ]
    }
   ],
   "source": [
    "documentos = []\n",
    "[documentos.append(x.rsplit(\"-\", 1)[0]) for x in bemprocessado.sentences if x.rsplit(\"-\", 1)[0] not in documentos]\n",
    "print(f\"{len(documentos)} documentos foram encontrados em FINAL\")\n",
    "print(\"\\n\".join([\"* \" + x for x in documentos]))\n",
    "\n",
    "# a contagem de tokens não leva em consideração aqueles que têm \"-\" no seu id (indicação de contração (a contração em si conta, é claro))\n",
    "print(\"\\n|Versão|Sentenças|Tokens|\")\n",
    "print(\"|---|---|---|\")\n",
    "tokens_gambiarra = len([x for sentence in gambiarra.sentences.values() for x in sentence.tokens if not '-' in x.id])\n",
    "tokens_final = len([x for sentence in bemprocessado.sentences.values() for x in sentence.tokens if not '-' in x.id])\n",
    "print(\"|GAMBIARRA|{}|{}|\".format(len(gambiarra.sentences), tokens_gambiarra))\n",
    "print(\"|FINAL|{}|{}|\".format(len(bemprocessado.sentences), tokens_final))"
   ]
  },
  {
   "cell_type": "markdown",
   "metadata": {},
   "source": [
    "# Distribuição das categorias bruta"
   ]
  },
  {
   "cell_type": "code",
   "execution_count": 11,
   "metadata": {},
   "outputs": [
    {
     "name": "stdout",
     "output_type": "stream",
     "text": [
      "\n",
      "Distribuição das categorias bruta\n",
      "| Anotação                  | GAMBIARRA                 | FINAL                     |\n",
      "| ---                       | ---                       | ---                       |\n",
      "| ADJ                       |                   1159480 |                    431953 |\n",
      "| ADP                       |                   2876098 |                   1120538 |\n",
      "| ADV                       |                    393759 |                    172318 |\n",
      "| AUX                       |                    352013 |                    158102 |\n",
      "| CCONJ                     |                    432498 |                    169891 |\n",
      "| DET                       |                   2243620 |                    942251 |\n",
      "| INTJ                      |                      4007 |                       516 |\n",
      "| NOUN                      |                   4196733 |                   1553242 |\n",
      "| NUM                       |                   1282043 |                    221234 |\n",
      "| PRON                      |                    310189 |                    135963 |\n",
      "| PROPN                     |                   2051089 |                    404111 |\n",
      "| PUNCT                     |                   2950228 |                    839898 |\n",
      "| ROOT-POS                  |                      2860 |                       108 |\n",
      "| SCONJ                     |                    196300 |                     89200 |\n",
      "| SYM                       |                     88581 |                     18718 |\n",
      "| VERB                      |                   1309589 |                    530764 |\n",
      "| X                         |                     23916 |                      3538 |\n",
      "| acl                       |                    277673 |                    111724 |\n",
      "| acl:relcl                 |                    105921 |                     44746 |\n",
      "| advcl                     |                    238195 |                    102720 |\n",
      "| advmod                    |                    353065 |                    155579 |\n",
      "| amod                      |                   1040935 |                    379450 |\n",
      "| appos                     |                    501333 |                    122653 |\n",
      "| appos:parataxis           |                    127773 |                     34745 |\n",
      "| aux                       |                     32584 |                     14188 |\n",
      "| aux:pass                  |                    171653 |                     79135 |\n",
      "| case                      |                   2850078 |                   1097916 |\n",
      "| cc                        |                    431019 |                    172614 |\n",
      "| ccomp                     |                     54289 |                     23330 |\n",
      "| ccomp:parataxis           |                        16 |                         8 |\n",
      "| compound                  |                     15930 |                      5091 |\n",
      "| conj                      |                    824433 |                    245054 |\n",
      "| cop                       |                    156577 |                     68630 |\n",
      "| csubj                     |                     23301 |                      9417 |\n",
      "| det                       |                   2247292 |                    939892 |\n",
      "| discourse                 |                       608 |                       239 |\n",
      "| dislocated                |                         6 |                         1 |\n",
      "| expl                      |                     65400 |                     29638 |\n",
      "| fixed                     |                    180713 |                     54764 |\n",
      "| flat                      |                    391525 |                      7600 |\n",
      "| flat:foreign              |                      6027 |                       900 |\n",
      "| flat:name                 |                   1004018 |                    155620 |\n",
      "| iobj                      |                      3080 |                      1146 |\n",
      "| mark                      |                    217240 |                     97532 |\n",
      "| nmod                      |                   1835516 |                    693562 |\n",
      "| nsubj                     |                    548915 |                    222608 |\n",
      "| nsubj:pass                |                    163408 |                     74412 |\n",
      "| nummod                    |                    500610 |                    109042 |\n",
      "| obj                       |                    600981 |                    228087 |\n",
      "| obl                       |                    713092 |                    299986 |\n",
      "| obl:agent                 |                     66660 |                     28751 |\n",
      "| orphan                    |                         0 |                         1 |\n",
      "| parataxis                 |                     97158 |                     14120 |\n",
      "| punct                     |                   2904621 |                    840643 |\n",
      "| root                      |                    981720 |                    268984 |\n",
      "| vocative                  |                         4 |                         3 |\n",
      "| xcomp                     |                    139634 |                     57814 |\n"
     ]
    }
   ],
   "source": [
    "print(\"\\nDistribuição das categorias bruta\")\n",
    "print(\"| {:25} | {:25} | {:25} |\".format('Anotação', 'GAMBIARRA', 'FINAL'))\n",
    "print(\"| {:25} | {:25} | {:25} |\".format(\"---\", \"---\", \"---\"))\n",
    "lista_pos_dp = [x for x in dic_pos_dp_gambiarra]\n",
    "[lista_pos_dp.append(x) for x in dic_pos_dp_bemprocessado if not x in lista_pos_dp]\n",
    "for pos_dp in sorted(lista_pos_dp):\n",
    "    print(\"| {:25} | {:25} | {:25} |\".format(pos_dp, dic_pos_dp_gambiarra[pos_dp] if pos_dp in dic_pos_dp_gambiarra else 0, dic_pos_dp_bemprocessado[pos_dp] if pos_dp in dic_pos_dp_bemprocessado else 0))"
   ]
  },
  {
   "cell_type": "markdown",
   "metadata": {},
   "source": [
    "# Distribuição das categorias relativa ao total de tokens da versão"
   ]
  },
  {
   "cell_type": "code",
   "execution_count": 12,
   "metadata": {},
   "outputs": [
    {
     "name": "stdout",
     "output_type": "stream",
     "text": [
      "\n",
      "Distribuição das categorias relativa ao total de tokens na versão\n",
      "| Anotação                  | GAMBIARRA                 | FINAL                     |\n",
      "| ---                       | ---                       | ---                       |\n",
      "| ADJ                       | 5.834447868799698%        | 6.359409011173608%        |\n",
      "| ADP                       | 14.47238748970148%        | 16.497071335451896%       |\n",
      "| ADV                       | 1.9813764432079037%       | 2.5369441628774747%       |\n",
      "| AUX                       | 1.7713125691170075%       | 2.327649729217229%        |\n",
      "| CCONJ                     | 2.176309237209897%        | 2.5012127623081573%       |\n",
      "| DET                       | 11.289788463273517%       | 13.872248833061334%       |\n",
      "| INTJ                      | 0.02016303223020698%      | 0.007596787265664509%     |\n",
      "| NOUN                      | 21.1177596058331%         | 22.86753691103735%        |\n",
      "| NUM                       | 6.451179019094397%        | 3.257107817697717%        |\n",
      "| PRON                      | 1.5608562027590898%       | 2.0017092771347746%       |\n",
      "| PROPN                     | 10.320981685556028%       | 5.949506392858431%        |\n",
      "| PUNCT                     | 14.845406101936382%       | 12.365361300110639%       |\n",
      "| ROOT-POS                  | 0.014391383124130762%     | 0.0015900252416507113%    |\n",
      "| SCONJ                     | 0.987772205338066%        | 1.3132430699559579%       |\n",
      "| SYM                       | 0.4457353526288905%       | 0.2755749303075742%       |\n",
      "| VERB                      | 6.589789172778769%        | 7.814149605180538%        |\n",
      "| X                         | 0.12034416741143752%      | 0.052088049120002006%     |\n",
      "| acl                       | 1.397237246932434%        | 1.6448516675757783%       |\n",
      "| acl:relcl                 | 0.53298940275911%         | 0.6587710135453956%       |\n",
      "| advcl                     | 1.1985858402980163%       | 1.5122906742811209%       |\n",
      "| advmod                    | 1.7766061827696598%       | 2.2905049728775553%       |\n",
      "| amod                      | 5.23793510220876%         | 5.586435906892244%        |\n",
      "| appos                     | 2.52268366285659%         | 1.8057533885572654%       |\n",
      "| appos:parataxis           | 0.642947620950895%        | 0.5115317316773514%       |\n",
      "| aux                       | 0.16396112857226458%      | 0.20888220489389156%      |\n",
      "| aux:pass                  | 0.8637496809113349%       | 1.1650615509076763%       |\n",
      "| case                      | 14.34145609498474%        | 16.164019937149835%       |\n",
      "| cc                        | 2.1688669799929077%       | 2.541302009836073%        |\n",
      "| ccomp                     | 0.27317964979927795%      | 0.34347489710843604%      |\n",
      "| ccomp:parataxis           | 8.05112342608714e-05%     | 0.00011777964752968232%   |\n",
      "| compound                  | 0.08015899761098008%      | 0.07495202319670158%      |\n",
      "| conj                      | 4.148507399712062%        | 3.607796718217346%        |\n",
      "| cop                       | 0.7878879704290288%       | 1.0104021512452621%       |\n",
      "| csubj                     | 0.11724951684453527%      | 0.13864136759837728%      |\n",
      "| det                       | 11.308265791536387%       | 13.83751855949602%        |\n",
      "| discourse                 | 0.003059426901913113%     | 0.003518666969949259%     |\n",
      "| dislocated                | 3.0191712847826773e-05%   | 1.472245594121029e-05%    |\n",
      "| expl                      | 0.32908967004131184%      | 0.4363441491855906%       |\n",
      "| fixed                     | 0.9093391673115533%       | 0.8062605771644403%       |\n",
      "| flat                      | 1.9701350621242297%       | 0.1118906651531982%       |\n",
      "| flat:foreign              | 0.030327575555641993%     | 0.01325021034708926%      |\n",
      "| flat:name                 | 5.052170525008223%        | 2.291108593571145%        |\n",
      "| iobj                      | 0.015498412595217744%     | 0.01687193450862699%      |\n",
      "| mark                      | 1.0931412831769813%       | 1.4359105728581218%       |\n",
      "| nmod                      | 9.236228666598603%        | 10.21093598749769%        |\n",
      "| nsubj                     | 2.762114009644139%        | 3.27733647216094%         |\n",
      "| nsubj:pass                | 0.8222612355062796%       | 1.09552739149734%         |\n",
      "| nummod                    | 2.519045561458427%        | 1.6053660407414523%       |\n",
      "| obj                       | 3.024107629833297%        | 3.358000808262831%        |\n",
      "| obl                       | 3.588244816347082%        | 4.41653066797991%         |\n",
      "| obl:agent                 | 0.3354299297393554%       | 0.423285330765737%        |\n",
      "| orphan                    |                         0 | 1.472245594121029e-05%    |\n",
      "| parataxis                 | 0.48889440614485896%      | 0.20788107788988927%      |\n",
      "| punct                     | 14.615913860627908%       | 12.37632952978684%        |\n",
      "| root                      | 4.939968056161416%        | 3.960105088890508%        |\n",
      "| vocative                  | 2.012780856521785e-05%    | 4.4167367823630867e-05%   |\n",
      "| xcomp                     | 0.7026316052989072%       | 0.8511640677851315%       |\n"
     ]
    }
   ],
   "source": [
    "print(\"\\nDistribuição das categorias relativa ao total de tokens na versão\")\n",
    "print(\"| {:25} | {:25} | {:25} |\".format('Anotação', 'GAMBIARRA', 'FINAL'))\n",
    "print(\"| {:25} | {:25} | {:25} |\".format(\"---\", \"---\", \"---\"))\n",
    "lista_pos_dp = [x for x in dic_pos_dp_gambiarra]\n",
    "[lista_pos_dp.append(x) for x in dic_pos_dp_bemprocessado if not x in lista_pos_dp]\n",
    "for pos_dp in sorted(lista_pos_dp):\n",
    "    print(\"| {:25} | {:25} | {:25} |\".format(pos_dp, str((dic_pos_dp_gambiarra[pos_dp]/tokens_gambiarra)*100)+'%' if pos_dp in dic_pos_dp_gambiarra else 0, str((dic_pos_dp_bemprocessado[pos_dp]/tokens_final)*100)+'%' if pos_dp in dic_pos_dp_bemprocessado else 0))"
   ]
  },
  {
   "cell_type": "markdown",
   "metadata": {},
   "source": [
    "# Visualização dos lemas"
   ]
  },
  {
   "cell_type": "code",
   "execution_count": null,
   "metadata": {},
   "outputs": [
    {
     "name": "stdout",
     "output_type": "stream",
     "text": [
      "|                         |GAMBIARRA                |FINAL                    |\n",
      "|---                      |---                      |---                      |\n",
      "|Lemas diferentes         |                   343451|                   134016|\n"
     ]
    }
   ],
   "source": [
    "lista_lemas_gambiarra = []\n",
    "lista_lemas_bemprocessado = []\n",
    "[lista_lemas_gambiarra.append(x.lemma) for y in gambiarra.sentences.values() for x in y.tokens if not '-' in x.id]\n",
    "[lista_lemas_bemprocessado.append(x.lemma) for y in bemprocessado.sentences.values() for x in y.tokens if not '-' in x.id]\n",
    "\n",
    "print(\"|{:25}|{:25}|{:25}|\".format('', 'GAMBIARRA', 'FINAL'))\n",
    "print(\"|{:25}|{:25}|{:25}|\".format(\"---\", \"---\", \"---\"))\n",
    "print(\"|{:25}|{:25}|{:25}|\".format('Lemas diferentes', len(list(dict.fromkeys(lista_lemas_gambiarra))), len(list(dict.fromkeys(lista_lemas_bemprocessado)))))"
   ]
  },
  {
   "cell_type": "code",
   "execution_count": null,
   "metadata": {},
   "outputs": [
    {
     "name": "stdout",
     "output_type": "stream",
     "text": [
      "\n",
      "Distribuição dos lemas em GAMBIARRA\n",
      "|LEMA                     |OCORRÊNCIA               |REPRESENTATIVIDADE       |\n"
     ]
    }
   ],
   "source": [
    "print(\"\\nDistribuição dos lemas em GAMBIARRA\")\n",
    "print(\"|{:25}|{:25}|{:25}|\".format('LEMA', 'OCORRÊNCIA', 'REPRESENTATIVIDADE'))\n",
    "#print(\"|{:25}|{:25}|{:25}|\".format('', 'GAMBIARRA', 'FINAL'))\n",
    "[\n",
    "    print(\"|{:25}|{:25}|{:25}|\".format(\n",
    "            x, \n",
    "            lista_lemas_gambiarra.count(x), \n",
    "            str((lista_lemas_gambiarra.count(x)/len(lista_lemas_gambiarra))*100)+'%',\n",
    "        ))\n",
    "        for x in sorted(lista_lemas_gambiarra, reverse=True, key=lambda y: lista_lemas_gambiarra.count(y))\n",
    "]"
   ]
  },
  {
   "cell_type": "code",
   "execution_count": null,
   "metadata": {},
   "outputs": [],
   "source": []
  }
 ],
 "metadata": {
  "kernelspec": {
   "display_name": "Python 3",
   "language": "python",
   "name": "python3"
  },
  "language_info": {
   "codemirror_mode": {
    "name": "ipython",
    "version": 3
   },
   "file_extension": ".py",
   "mimetype": "text/x-python",
   "name": "python",
   "nbconvert_exporter": "python",
   "pygments_lexer": "ipython3",
   "version": "3.6.9"
  }
 },
 "nbformat": 4,
 "nbformat_minor": 2
}
