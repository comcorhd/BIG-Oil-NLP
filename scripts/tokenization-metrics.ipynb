{
 "metadata": {
  "language_info": {
   "codemirror_mode": {
    "name": "ipython",
    "version": 3
   },
   "file_extension": ".py",
   "mimetype": "text/x-python",
   "name": "python",
   "nbconvert_exporter": "python",
   "pygments_lexer": "ipython3",
   "version": "3.6.9-final"
  },
  "orig_nbformat": 2,
  "kernelspec": {
   "name": "Python 3.6.9 64-bit",
   "display_name": "Python 3.6.9 64-bit",
   "metadata": {
    "interpreter": {
     "hash": "31f2aee4e71d21fbe5cf8b01ff0e069b9275f58929596ceb00d14d90e3e16cd6"
    }
   }
  }
 },
 "nbformat": 4,
 "nbformat_minor": 2,
 "cells": [
  {
   "cell_type": "code",
   "execution_count": 61,
   "metadata": {},
   "outputs": [
    {
     "output_type": "stream",
     "name": "stderr",
     "text": [
      "build: 1.6685702800750732build: 0.5897412300109863build: 126.19385051727295build: 4.1335179805755615"
     ]
    },
    {
     "output_type": "execute_result",
     "data": {
      "text/plain": [
       "0"
      ]
     },
     "metadata": {},
     "execution_count": 61
    }
   ],
   "source": [
    "import sys\n",
    "import copy\n",
    "sys.path.append(\"/home/elvis/ACDC-UD\")\n",
    "import estrutura_ud\n",
    "from ufal.udpipe import Model, Pipeline, ProcessingError\n",
    "corpora = {\n",
    "    'Petroles': \"../Petroles v1.conllu\",\n",
    "    'TOK': \"../TOK/TOK_golden.conllu\"\n",
    "}\n",
    "golden = estrutura_ud.Corpus(recursivo=False)\n",
    "golden_text = []\n",
    "for corpus in corpora:\n",
    "    estrutura = estrutura_ud.Corpus(recursivo=False)\n",
    "    with open(corpora[corpus]) as f:\n",
    "        estrutura.build(f.read().replace(\"yyy\", \"\").replace(\"zzz\", \"\"))\n",
    "    corpora[corpus] = copy.deepcopy(estrutura)\n",
    "    for sentence in corpora[corpus].sentences.values():\n",
    "        for token in sentence.tokens:\n",
    "            token.lemma = \"_\"\n",
    "            token.upos = \"_\"\n",
    "            token.xpos = \"_\"\n",
    "            token.feats = \"_\"\n",
    "            token.dephead = \"_\"\n",
    "            token.deprel = \"_\"\n",
    "            token.deps = \"_\"\n",
    "            token.misc = \"_\"\n",
    "        golden_text.append(sentence.text)\n",
    "    golden.sentences.update(corpora[corpus].sentences)\n",
    "model = Model.load(\"../udpipe/bosqueud_2.5_workbench.udpipe\")\n",
    "pipeline = Pipeline(model, \"tokenize\", Pipeline.DEFAULT, Pipeline.DEFAULT, \"conllu\")\n",
    "pipeline_tokenized = Pipeline(model, \"conllu\", Pipeline.DEFAULT, Pipeline.DEFAULT, \"conllu\")\n",
    "system = estrutura_ud.Corpus(recursivo=False)\n",
    "system.build(pipeline.process(\" \".join(golden_text)))\n",
    "golden.save(\"golden.conllu\")\n",
    "os.system(\"python3 /home/elvis/ACDC-UD/tokenizar_conllu.py golden.conllu golden_tokenized.conllu\")\n",
    "os.system(\"python3 /home/elvis/ACDC-UD/udpipe_vertical.py ../udpipe/bosqueud_2.5_workbench.udpipe golden_tokenized.conllu golden_udpipe.conllu\")\n",
    "golden_tagged = estrutura_ud.Corpus(recursivo=False)\n",
    "golden_tagged.load(\"golden_udpipe.conllu\")\n",
    "os.system(\"rm golden.conllu golden_tokenized.conllu golden_udpipe.conllu\")"
   ]
  },
  {
   "cell_type": "code",
   "execution_count": 62,
   "metadata": {},
   "outputs": [
    {
     "output_type": "stream",
     "name": "stdout",
     "text": [
      "Golden - Sistema\nSentenças: 1140 - 1314\nTokens: 115140 - 132714\nPalavras: 103740 - 119574\nTipos: 6437 - 6441\nTokens com frequência 1: 3663 - 3663\nSem VERB: 138 - 241\nSentenças iguais: 934\nTokenização igual: 810\n"
     ]
    }
   ],
   "source": [
    "same_text = set(golden_text).intersection([sentence.text for sentence in system.sentences.values()])\n",
    "same_tokenization = 0\n",
    "for g in golden_tagged.sentences.values():\n",
    "    for s in system.sentences.values():\n",
    "        if g.text == s.text:\n",
    "            if len(g.tokens) == len(s.tokens):\n",
    "                same_tokenization += 1\n",
    "            break\n",
    "g_different_tokens = set()\n",
    "for sentence in golden_tagged.sentences.values():\n",
    "    for token in sentence.tokens:\n",
    "        if not '-' in token.id:\n",
    "            g_different_tokens.add(token.word.lower())\n",
    "s_different_tokens = set()\n",
    "for sentence in system.sentences.values():\n",
    "    for token in sentence.tokens:\n",
    "        if not '-' in token.id:\n",
    "            s_different_tokens.add(token.word.lower())\n",
    "g_no_verb = 0\n",
    "s_no_verb = 0\n",
    "for sentence in golden_tagged.sentences.values():\n",
    "    has_verb = False\n",
    "    for token in sentence.tokens:\n",
    "        if token.upos == \"VERB\":\n",
    "            has_verb = True\n",
    "            break\n",
    "    if not has_verb:\n",
    "        g_no_verb += 1\n",
    "for sentence in system.sentences.values():\n",
    "    has_verb = False\n",
    "    for token in sentence.tokens:\n",
    "        if token.upos == \"VERB\":\n",
    "            has_verb = True\n",
    "            break\n",
    "    if not has_verb:\n",
    "        s_no_verb += 1\n",
    "g_freq_one = []\n",
    "g_freq_more = []\n",
    "s_freq_one = []\n",
    "s_freq_more = []\n",
    "for sentence in golden_tagged.sentences.values():\n",
    "    for token in sentence.tokens:\n",
    "        if token.word.lower() in g_freq_one:\n",
    "            g_freq_one.remove(token.word.lower())\n",
    "            g_freq_more.append(token.word.lower())\n",
    "        elif token.word.lower() not in g_freq_more:\n",
    "            g_freq_one.append(token.word.lower())\n",
    "for sentence in system.sentences.values():\n",
    "    for token in sentence.tokens:\n",
    "        if token.word.lower() in s_freq_one:\n",
    "            s_freq_one.remove(token.word.lower())\n",
    "            s_freq_more.append(token.word.lower())\n",
    "        elif token.word.lower() not in s_freq_more:\n",
    "            s_freq_one.append(token.word.lower())\n",
    "print(\"Golden - Sistema\\nSentenças: {} - {}\\nTokens: {} - {}\\nPalavras: {} - {}\\nTipos: {} - {}\\nTokens com frequência 1: {} - {}\\nSem VERB: {} - {}\\nSentenças iguais: {}\\nTokenização igual: {}\".format(\n",
    "    len(golden_tagged.sentences), len(system.sentences),\n",
    "    len([token for token in sentence.tokens for sentence in golden_tagged.sentences.values() if not '-' in token.id]), len([token for token in sentence.tokens for sentence in system.sentences.values() if not '-' in token.id]),\n",
    "    len([token.word.lower() for token in sentence.tokens for sentence in golden_tagged.sentences.values() if token.upos != \"PUNCT\" and not '-' in token.id]), len([token.word.lower() for token in sentence.tokens for sentence in system.sentences.values() if token.upos != \"PUNCT\" and not '-' in token.id]),\n",
    "    len(g_different_tokens), len(s_different_tokens),\n",
    "    len(g_freq_one), len(s_freq_one),\n",
    "    g_no_verb, s_no_verb,\n",
    "    len(same_text),\n",
    "    same_tokenization,\n",
    "))"
   ]
  },
  {
   "cell_type": "code",
   "execution_count": null,
   "metadata": {},
   "outputs": [],
   "source": []
  }
 ]
}