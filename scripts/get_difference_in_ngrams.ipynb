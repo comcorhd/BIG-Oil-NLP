{
 "metadata": {
  "language_info": {
   "codemirror_mode": {
    "name": "ipython",
    "version": 3
   },
   "file_extension": ".py",
   "mimetype": "text/x-python",
   "name": "python",
   "nbconvert_exporter": "python",
   "pygments_lexer": "ipython3",
   "version": "3.6.9-final"
  },
  "orig_nbformat": 2,
  "kernelspec": {
   "name": "Python 3.6.9 64-bit",
   "display_name": "Python 3.6.9 64-bit",
   "metadata": {
    "interpreter": {
     "hash": "31f2aee4e71d21fbe5cf8b01ff0e069b9275f58929596ceb00d14d90e3e16cd6"
    }
   }
  }
 },
 "nbformat": 4,
 "nbformat_minor": 2,
 "cells": [
  {
   "cell_type": "code",
   "execution_count": 5,
   "metadata": {},
   "outputs": [],
   "source": [
    "html_files = {\n",
    "    'sem_passiva': \"../EM/Petroles v1_udpipe_Petroles v1_stanza_Petroles v1_n-grams-lexicais.html\",\n",
    "    'com_passiva': \"../EM/Petroles v1_udpipe_Petroles v1_stanza_Petroles v1_Passiva_n-grams-lexicais.html\",\n",
    "    'com_dependency': \"../EM/Petroles v1_udpipe_Petroles v1_stanza_Petroles v1_Passiva_n-grams-lexicais-dependency.html\",\n",
    "    'sem_dependency': \"../EM/Petroles v1_udpipe_Petroles v1_stanza_Petroles v1_Passiva_n-grams-lexicais.html\",\n",
    "}\n",
    "for file in html_files:\n",
    "    with open(html_files[file]) as f:\n",
    "        html_files[file] = f.read().split(\"<body>\")[1].split(\"</body>\")[0]"
   ]
  },
  {
   "cell_type": "code",
   "execution_count": 23,
   "metadata": {},
   "outputs": [],
   "source": [
    "def get_diff(bigger, smaller):\n",
    "    entries = {}\n",
    "    for file in [bigger, smaller]:\n",
    "        entries[file] = [\"<span\" + x.split(\"<hr>\")[0] + \"<hr>\" for x in html_files[file].split(\" - <span\")[1:]]\n",
    "    return [x for x in entries[bigger] if x not in entries[smaller]]"
   ]
  },
  {
   "cell_type": "code",
   "execution_count": 25,
   "metadata": {},
   "outputs": [
    {
     "output_type": "error",
     "ename": "IndentationError",
     "evalue": "expected an indented block (<ipython-input-25-868d830320e5>, line 11)",
     "traceback": [
      "\u001b[0;36m  File \u001b[0;32m\"<ipython-input-25-868d830320e5>\"\u001b[0;36m, line \u001b[0;32m11\u001b[0m\n\u001b[0;31m    diff = get_diff('sem_dependency', 'com_dependency')\u001b[0m\n\u001b[0m       ^\u001b[0m\n\u001b[0;31mIndentationError\u001b[0m\u001b[0;31m:\u001b[0m expected an indented block\n"
     ]
    }
   ],
   "source": [
    "with open(\"../EM/Petroles v1_udpipe_Petroles v1_stanza_Petroles v1_Passiva-diff.html\", \"w+\") as f:\n",
    "    diff = get_diff('sem_passiva', 'com_passiva')\n",
    "    max = len(diff)\n",
    "    for i, item in enumerate(diff):\n",
    "        f.write(\"{} / {} - {}\".format(\n",
    "            i+1,\n",
    "            max,\n",
    "            item\n",
    "        ))\n",
    "with open(\"../EM/Petroles v1_udpipe_Petroles v1_stanza_Petroles v1_Passiva-n-grams-lexicais-dependency-diff.html\", \"w+\") as f:\n",
    "    diff = get_diff('sem_dependency', 'com_dependency')\n",
    "    max = len(diff)\n",
    "    for i, item in enumerate(diff):\n",
    "        f.write(\"{} / {} - {}\".format(\n",
    "            i+1,\n",
    "            max,\n",
    "            item\n",
    "        ))"
   ]
  },
  {
   "cell_type": "code",
   "execution_count": null,
   "metadata": {},
   "outputs": [],
   "source": []
  }
 ]
}