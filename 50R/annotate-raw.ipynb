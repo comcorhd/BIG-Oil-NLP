{
 "cells": [
  {
   "cell_type": "code",
   "execution_count": 1,
   "metadata": {},
   "outputs": [],
   "source": [
    "import os\n",
    "import sys"
   ]
  },
  {
   "cell_type": "code",
   "execution_count": null,
   "metadata": {},
   "outputs": [
    {
     "name": "stdout",
     "output_type": "stream",
     "text": [
      "Conversão UTF-8: raw/Aline\n",
      "16-20150122-MONOGRAFIA_0_resumo.txt\n",
      "22-20150122-MONOGRAFIA_0_resumo.txt\n",
      "34-20141113-TESEMSC_0_resumo.txt\n",
      "35-20141113-TESEMSC_0_resumo.txt\n",
      "20-20140904-TESEDSC_0_resumo.txt\n",
      "33-20141126-TESEMSC_1_resumo.txt\n",
      "19-20140916-TESEDSC_0_resumo.txt\n",
      "36-20140327-TESEMSC_0_resumo.txt\n",
      "54-20141209-TESEDSC_0_resumo.txt\n",
      "32-20141110-MONOGRAFIA_0_resumo.txt\n",
      "55-20141209-TESEMSC_0_resumo.txt\n",
      "17-20150121-MONOGRAFIA_0_resumo.txt\n",
      "udpipe/Aline.conllu\n",
      "udpipe/Aline_sentid.conllu\n"
     ]
    }
   ],
   "source": [
    "convertido = []\n",
    "for pessoa in os.listdir(\"raw\"):\n",
    "    if os.path.isdir(\"raw/\" + pessoa):\n",
    "        print(f\"Conversão UTF-8: raw/{pessoa}\")\n",
    "        for arquivo in os.listdir(\"raw/\" + pessoa):\n",
    "            if arquivo.endswith(\".txt\"):\n",
    "                try:\n",
    "                    with open(f\"raw/{pessoa}/{arquivo}\", encoding=\"utf-8\") as utf8:\n",
    "                        utf8.read()\n",
    "                except:\n",
    "                    with open(f\"raw/{pessoa}/{arquivo}\", encoding=\"latin-1\") as latin1:\n",
    "                        with open(f\"raw/{pessoa}/utf8-{arquivo}\", \"w\", encoding=\"utf-8\") as utf8:\n",
    "                            utf8.write(latin1.read())\n",
    "                    os.rename(f\"raw/{pessoa}/utf8-{arquivo}\", f\"raw/{pessoa}/{arquivo}\")\n",
    "                    convertido.append(arquivo)\n",
    "                print(arquivo)\n",
    "        os.system(f\"../udpipe/udpipe-1.2.0 --tokenize --tag --parse ../udpipe/bosque25wb_5TEM.udpipe raw/{pessoa}/*.txt > udpipe/{pessoa}.conllu\")\n",
    "        print(f\"udpipe/{pessoa}.conllu\")\n",
    "        os.system(f\"python3 ../scripts/fix_sent_id.py udpipe/{pessoa}.conllu > udpipe/{pessoa}_sentid.conllu\")\n",
    "        print(f\"udpipe/{pessoa}_sentid.conllu\")\n",
    "        os.system(f\"python ../jPTDP/src/jPTDP.py --predict --model ../jPTDP/outputs/jPTDP_pt_ud.model --params ../jPTDP/outputs/jPTDP_pt_ud.params --test udpipe/{pessoa}_sentid.conllu --outdir jptdp --output {pessoa}.conllu\")\n",
    "        print(f\"jptdp/{pessoa}.conllu\")\n",
    "        print(\"\")\n",
    "        \n",
    "print(f\"Convertidos para UTF-8 ({len(convertido)}):\")\n",
    "print(\"\\n\".join(convertido))"
   ]
  },
  {
   "cell_type": "code",
   "execution_count": null,
   "metadata": {},
   "outputs": [],
   "source": []
  }
 ],
 "metadata": {
  "kernelspec": {
   "display_name": "Python 3",
   "language": "python",
   "name": "python3"
  },
  "language_info": {
   "codemirror_mode": {
    "name": "ipython",
    "version": 3
   },
   "file_extension": ".py",
   "mimetype": "text/x-python",
   "name": "python",
   "nbconvert_exporter": "python",
   "pygments_lexer": "ipython3",
   "version": "3.6.9"
  }
 },
 "nbformat": 4,
 "nbformat_minor": 4
}
